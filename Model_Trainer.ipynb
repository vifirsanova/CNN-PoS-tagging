{
  "nbformat": 4,
  "nbformat_minor": 0,
  "metadata": {
    "colab": {
      "name": "Model_Trainer",
      "provenance": [],
      "collapsed_sections": [],
      "authorship_tag": "ABX9TyPvbyxbbMI3l/PkfsvAEzBG"
    },
    "kernelspec": {
      "name": "python3",
      "display_name": "Python 3"
    }
  },
  "cells": [
    {
      "cell_type": "markdown",
      "metadata": {
        "id": "wuJ5LyHN7CJO"
      },
      "source": [
        "### **Convolutional Neural Network**\n",
        "\n",
        "Build the model, train and save the weights."
      ]
    },
    {
      "cell_type": "code",
      "metadata": {
        "id": "EcKti3_tUizI"
      },
      "source": [
        "# Model parameters\n",
        "\n",
        "model = Tagger(len(char_vocab), len(tags_ids), embedding_size=64, layers_n=4, kernel_size=3, dropout=0.3) # 60 178 parameters "
      ],
      "execution_count": null,
      "outputs": []
    },
    {
      "cell_type": "code",
      "metadata": {
        "id": "klHz9auAhAQe"
      },
      "source": [
        "# Train the model\n",
        "\n",
        "(best_loss,\n",
        " best_model) = training(model,\n",
        "                        train_set,\n",
        "                        test_set,\n",
        "                        F.cross_entropy,\n",
        "                        lr = 5e-3, \n",
        "                        epoch_n = 20,\n",
        "                        batch_size = 64,\n",
        "                        device = 'cuda',\n",
        "                        early_stopping_patience = 5,\n",
        "                        lr_scheduler_ctor = lambda optim: torch.optim.lr_scheduler.ReduceLROnPlateau(optim, patience=2,\n",
        "                                                                                                   factor=0.5,\n",
        "                                                                                                   verbose=True))"
      ],
      "execution_count": null,
      "outputs": []
    },
    {
      "cell_type": "code",
      "metadata": {
        "id": "3lzxSSrRiq_Q"
      },
      "source": [
        "# Save the weights\n",
        "\n",
        "torch.save(best_model.state_dict(), '/best_model.pth')"
      ],
      "execution_count": null,
      "outputs": []
    }
  ]
}